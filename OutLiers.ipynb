{
 "cells": [
  {
   "cell_type": "code",
   "execution_count": 1,
   "metadata": {},
   "outputs": [],
   "source": [
    "import numpy as np"
   ]
  },
  {
   "cell_type": "code",
   "execution_count": 7,
   "metadata": {},
   "outputs": [
    {
     "name": "stdout",
     "output_type": "stream",
     "text": [
      "[733]\n"
     ]
    }
   ],
   "source": [
    "#Detecting outlier using Z score\n",
    "l1= [1,2,3,4,5,6,7,8,9,11,21,22,22,23,24,2,1,2,4,5,6,733,25,17,10]\n",
    "outliers=[]\n",
    "def detect_outliers(data):\n",
    "    mean = np.mean(data)\n",
    "    std =np.std(data)\n",
    "    for i in data:\n",
    "        z_score= (i - mean)/std \n",
    "        if np.abs(z_score) > 3:\n",
    "            outliers.append(i)\n",
    "    return outliers\n",
    "outlier=detect_outliers(dataset)\n",
    "print(outlier)"
   ]
  },
  {
   "cell_type": "code",
   "execution_count": 11,
   "metadata": {},
   "outputs": [
    {
     "name": "stdout",
     "output_type": "stream",
     "text": [
      "733 is an Outlier\n"
     ]
    }
   ],
   "source": [
    "#Detecting outlier using InterQuantile Range\n",
    "sorted(l1)\n",
    "q1, q3= np.percentile(l1,[25,75])\n",
    "iqr=q3-q1\n",
    "lower_bound = q1 -(1.5 * iqr) \n",
    "upper_bound = q3 +(1.5 * iqr)\n",
    "for i in l1:\n",
    "    if i<lower_bound:\n",
    "        print(str(i)+ \" is an Outlier\")\n",
    "    elif i>upper_bound:\n",
    "        print(str(i)+ \" is an Outlier\")"
   ]
  },
  {
   "cell_type": "code",
   "execution_count": null,
   "metadata": {},
   "outputs": [],
   "source": []
  },
  {
   "cell_type": "code",
   "execution_count": null,
   "metadata": {},
   "outputs": [],
   "source": []
  }
 ],
 "metadata": {
  "kernelspec": {
   "display_name": "Python 3",
   "language": "python",
   "name": "python3"
  },
  "language_info": {
   "codemirror_mode": {
    "name": "ipython",
    "version": 3
   },
   "file_extension": ".py",
   "mimetype": "text/x-python",
   "name": "python",
   "nbconvert_exporter": "python",
   "pygments_lexer": "ipython3",
   "version": "3.8.3"
  }
 },
 "nbformat": 4,
 "nbformat_minor": 4
}
