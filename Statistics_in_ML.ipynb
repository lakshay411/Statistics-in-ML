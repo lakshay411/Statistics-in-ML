{
 "cells": [
  {
   "cell_type": "code",
   "execution_count": 1,
   "metadata": {},
   "outputs": [],
   "source": [
    "import numpy as np\n",
    "import pandas as pd\n",
    "from scipy import stats\n",
    "import random\n",
    "import matplotlib\n",
    "import matplotlib.pyplot as plt\n",
    "import scipy.stats as st"
   ]
  },
  {
   "cell_type": "code",
   "execution_count": 2,
   "metadata": {},
   "outputs": [
    {
     "name": "stdout",
     "output_type": "stream",
     "text": [
      "6.928571428571429\n"
     ]
    }
   ],
   "source": [
    "#Mean\n",
    "num=[1,2,3,4,5,6,7,7,8,8,10,11,12,13]\n",
    "total=0\n",
    "for x in num:\n",
    "    total = total+x\n",
    "mean=total/len(num)\n",
    "print(mean)"
   ]
  },
  {
   "cell_type": "code",
   "execution_count": 3,
   "metadata": {},
   "outputs": [
    {
     "name": "stdout",
     "output_type": "stream",
     "text": [
      "Median of the given List \n",
      "7.0\n"
     ]
    }
   ],
   "source": [
    "#Median\n",
    "num.sort()\n",
    "if len(num) % 2 !=0:\n",
    "    miditem=int((len(num)-1)/2)\n",
    "    median=num[miditem]\n",
    "    print('Median of the Given List ')\n",
    "    print(median)\n",
    "elif len(num)%2 ==0:\n",
    "    miditem1=int(len(num)/2)\n",
    "    miditem2=int(len(num)/2)-1\n",
    "    print('Median of the given List ' )\n",
    "    m1=num[miditem1]\n",
    "    m2=num[miditem2]\n",
    "    print((m1+m2)/2)\n",
    "    \n",
    "        "
   ]
  },
  {
   "cell_type": "code",
   "execution_count": 4,
   "metadata": {},
   "outputs": [
    {
     "name": "stdout",
     "output_type": "stream",
     "text": [
      "Mode of the given List\n",
      "{8, 7}\n"
     ]
    }
   ],
   "source": [
    "#Mode\n",
    "num.sort()\n",
    "li=[]\n",
    "index=0\n",
    "#print(num)\n",
    "while index < len(num) : \n",
    "    li.append(num.count(num[index])) \n",
    "    index += 1\n",
    "#print(li)\n",
    "item_count = dict(zip(num, li)) \n",
    "#print(item_count)\n",
    "max_count={k for (k,v) in item_count.items() if v == max(li) } \n",
    "print('Mode of the given List')\n",
    "print(max_count)"
   ]
  },
  {
   "cell_type": "code",
   "execution_count": 5,
   "metadata": {},
   "outputs": [
    {
     "name": "stdout",
     "output_type": "stream",
     "text": [
      "Mean:      6.928571428571429\n",
      "Median:    7.0\n",
      "Mode:      ModeResult(mode=array([7]), count=array([2]))\n",
      "Variance:  12.780612244897961\n"
     ]
    }
   ],
   "source": [
    "#Mean , Median,Mode,Variance using Numpy\n",
    "mean=np.mean(num)\n",
    "mode=stats.mode(num)\n",
    "median=np.median(num)\n",
    "variance=np.var(num)\n",
    "print('Mean:      '+ str(mean))\n",
    "print('Median:    '+ str(median))\n",
    "print('Mode:      '+ str(mode))\n",
    "print('Variance:  '+ str(variance))"
   ]
  },
  {
   "cell_type": "code",
   "execution_count": 6,
   "metadata": {},
   "outputs": [
    {
     "name": "stdout",
     "output_type": "stream",
     "text": [
      "6.928571428571429\n",
      "12.780612244897958\n"
     ]
    }
   ],
   "source": [
    "# Mean , Variance using np.sum()\n",
    "import warnings\n",
    "warnings.filterwarnings(\"ignore\", category=DeprecationWarning) \n",
    "mean=np.sum(num)/len(num)\n",
    "variance=np.sum((i-mean) ** 2 for i in num)/len(num)\n",
    "print(mean)\n",
    "print(variance)"
   ]
  },
  {
   "cell_type": "code",
   "execution_count": 7,
   "metadata": {},
   "outputs": [],
   "source": [
    "x = []\n",
    "for r in range(0,10):\n",
    "    x.append(random.uniform(1.78,0.1))\n",
    "y = []\n",
    "for r in range(0,10):\n",
    "    y.append(random.uniform(1.66,0.1))"
   ]
  },
  {
   "cell_type": "code",
   "execution_count": 8,
   "metadata": {},
   "outputs": [
    {
     "data": {
      "text/plain": [
       "[0.49034235589016695,\n",
       " 1.177497606223795,\n",
       " 0.8417193484697321,\n",
       " 1.7790477463196614,\n",
       " 1.6979766722104044,\n",
       " 1.663917169971594,\n",
       " 1.6930635594491432,\n",
       " 0.7081315592304782,\n",
       " 1.0318799352173116,\n",
       " 1.6207815566125556]"
      ]
     },
     "execution_count": 8,
     "metadata": {},
     "output_type": "execute_result"
    }
   ],
   "source": [
    "x"
   ]
  },
  {
   "cell_type": "code",
   "execution_count": 9,
   "metadata": {},
   "outputs": [
    {
     "data": {
      "text/plain": [
       "[1.3312837782380105,\n",
       " 1.4213525168664614,\n",
       " 1.1904136914982246,\n",
       " 0.5187589963763279,\n",
       " 1.6365684671645129,\n",
       " 0.6208420127544272,\n",
       " 0.5753354307829031,\n",
       " 0.2925388834988687,\n",
       " 1.6448118960143394,\n",
       " 0.653104806986877]"
      ]
     },
     "execution_count": 9,
     "metadata": {},
     "output_type": "execute_result"
    }
   ],
   "source": [
    "y"
   ]
  },
  {
   "cell_type": "code",
   "execution_count": 10,
   "metadata": {},
   "outputs": [
    {
     "name": "stdout",
     "output_type": "stream",
     "text": [
      "[[ 0.23019304 -0.06200518]\n",
      " [-0.06200518  0.25775055]]\n"
     ]
    }
   ],
   "source": [
    "#covariance using numpy\n",
    "stack_mat=np.stack((x, y), axis = 0)\n",
    "covariance=np.cov(stack_mat)\n",
    "print(covariance)"
   ]
  },
  {
   "cell_type": "code",
   "execution_count": 11,
   "metadata": {},
   "outputs": [
    {
     "name": "stdout",
     "output_type": "stream",
     "text": [
      "N:10\n",
      "Mean of X: 1.2704357509594844\n",
      "Mean of Y: 0.9885010480180952\n",
      "-0.055804659102568245\n"
     ]
    }
   ],
   "source": [
    "#covariance using numpy.sum\n",
    "if len(x)==len(y):\n",
    "    n=len(x)\n",
    "    print('N:' + str(n))\n",
    "    mean_x=np.mean(x)\n",
    "    mean_y=np.mean(y)\n",
    "    print('Mean of X: '+str(mean_x))\n",
    "    print('Mean of Y: '+str(mean_y))\n",
    "else:\n",
    "    print('Invalid For Covariance')\n",
    "covariance =np.sum((i-mean_x)*(j-mean_y) for i,j in zip(x,y))/n\n",
    "print(covariance)"
   ]
  },
  {
   "cell_type": "code",
   "execution_count": 12,
   "metadata": {},
   "outputs": [
    {
     "data": {
      "text/html": [
       "<div>\n",
       "<style scoped>\n",
       "    .dataframe tbody tr th:only-of-type {\n",
       "        vertical-align: middle;\n",
       "    }\n",
       "\n",
       "    .dataframe tbody tr th {\n",
       "        vertical-align: top;\n",
       "    }\n",
       "\n",
       "    .dataframe thead th {\n",
       "        text-align: right;\n",
       "    }\n",
       "</style>\n",
       "<table border=\"1\" class=\"dataframe\">\n",
       "  <thead>\n",
       "    <tr style=\"text-align: right;\">\n",
       "      <th></th>\n",
       "      <th>Gender</th>\n",
       "      <th>Height</th>\n",
       "      <th>Weight</th>\n",
       "      <th>Index</th>\n",
       "    </tr>\n",
       "  </thead>\n",
       "  <tbody>\n",
       "    <tr>\n",
       "      <th>0</th>\n",
       "      <td>Male</td>\n",
       "      <td>174</td>\n",
       "      <td>96</td>\n",
       "      <td>4</td>\n",
       "    </tr>\n",
       "    <tr>\n",
       "      <th>1</th>\n",
       "      <td>Male</td>\n",
       "      <td>189</td>\n",
       "      <td>87</td>\n",
       "      <td>2</td>\n",
       "    </tr>\n",
       "    <tr>\n",
       "      <th>2</th>\n",
       "      <td>Female</td>\n",
       "      <td>185</td>\n",
       "      <td>110</td>\n",
       "      <td>4</td>\n",
       "    </tr>\n",
       "    <tr>\n",
       "      <th>3</th>\n",
       "      <td>Female</td>\n",
       "      <td>195</td>\n",
       "      <td>104</td>\n",
       "      <td>3</td>\n",
       "    </tr>\n",
       "    <tr>\n",
       "      <th>4</th>\n",
       "      <td>Male</td>\n",
       "      <td>149</td>\n",
       "      <td>61</td>\n",
       "      <td>3</td>\n",
       "    </tr>\n",
       "    <tr>\n",
       "      <th>...</th>\n",
       "      <td>...</td>\n",
       "      <td>...</td>\n",
       "      <td>...</td>\n",
       "      <td>...</td>\n",
       "    </tr>\n",
       "    <tr>\n",
       "      <th>495</th>\n",
       "      <td>Female</td>\n",
       "      <td>150</td>\n",
       "      <td>153</td>\n",
       "      <td>5</td>\n",
       "    </tr>\n",
       "    <tr>\n",
       "      <th>496</th>\n",
       "      <td>Female</td>\n",
       "      <td>184</td>\n",
       "      <td>121</td>\n",
       "      <td>4</td>\n",
       "    </tr>\n",
       "    <tr>\n",
       "      <th>497</th>\n",
       "      <td>Female</td>\n",
       "      <td>141</td>\n",
       "      <td>136</td>\n",
       "      <td>5</td>\n",
       "    </tr>\n",
       "    <tr>\n",
       "      <th>498</th>\n",
       "      <td>Male</td>\n",
       "      <td>150</td>\n",
       "      <td>95</td>\n",
       "      <td>5</td>\n",
       "    </tr>\n",
       "    <tr>\n",
       "      <th>499</th>\n",
       "      <td>Male</td>\n",
       "      <td>173</td>\n",
       "      <td>131</td>\n",
       "      <td>5</td>\n",
       "    </tr>\n",
       "  </tbody>\n",
       "</table>\n",
       "<p>500 rows × 4 columns</p>\n",
       "</div>"
      ],
      "text/plain": [
       "     Gender  Height  Weight  Index\n",
       "0      Male     174      96      4\n",
       "1      Male     189      87      2\n",
       "2    Female     185     110      4\n",
       "3    Female     195     104      3\n",
       "4      Male     149      61      3\n",
       "..      ...     ...     ...    ...\n",
       "495  Female     150     153      5\n",
       "496  Female     184     121      4\n",
       "497  Female     141     136      5\n",
       "498    Male     150      95      5\n",
       "499    Male     173     131      5\n",
       "\n",
       "[500 rows x 4 columns]"
      ]
     },
     "execution_count": 12,
     "metadata": {},
     "output_type": "execute_result"
    }
   ],
   "source": [
    "#analyse bmi\n",
    "data=pd.read_csv(\"/home/laksh/Downloads/bmi.csv\")\n",
    "data"
   ]
  },
  {
   "cell_type": "code",
   "execution_count": 13,
   "metadata": {},
   "outputs": [
    {
     "data": {
      "text/html": [
       "<div>\n",
       "<style scoped>\n",
       "    .dataframe tbody tr th:only-of-type {\n",
       "        vertical-align: middle;\n",
       "    }\n",
       "\n",
       "    .dataframe tbody tr th {\n",
       "        vertical-align: top;\n",
       "    }\n",
       "\n",
       "    .dataframe thead th {\n",
       "        text-align: right;\n",
       "    }\n",
       "</style>\n",
       "<table border=\"1\" class=\"dataframe\">\n",
       "  <thead>\n",
       "    <tr style=\"text-align: right;\">\n",
       "      <th></th>\n",
       "      <th>Height</th>\n",
       "      <th>Weight</th>\n",
       "      <th>Index</th>\n",
       "    </tr>\n",
       "  </thead>\n",
       "  <tbody>\n",
       "    <tr>\n",
       "      <th>count</th>\n",
       "      <td>500.000000</td>\n",
       "      <td>500.000000</td>\n",
       "      <td>500.000000</td>\n",
       "    </tr>\n",
       "    <tr>\n",
       "      <th>mean</th>\n",
       "      <td>169.944000</td>\n",
       "      <td>106.000000</td>\n",
       "      <td>3.748000</td>\n",
       "    </tr>\n",
       "    <tr>\n",
       "      <th>std</th>\n",
       "      <td>16.375261</td>\n",
       "      <td>32.382607</td>\n",
       "      <td>1.355053</td>\n",
       "    </tr>\n",
       "    <tr>\n",
       "      <th>min</th>\n",
       "      <td>140.000000</td>\n",
       "      <td>50.000000</td>\n",
       "      <td>0.000000</td>\n",
       "    </tr>\n",
       "    <tr>\n",
       "      <th>25%</th>\n",
       "      <td>156.000000</td>\n",
       "      <td>80.000000</td>\n",
       "      <td>3.000000</td>\n",
       "    </tr>\n",
       "    <tr>\n",
       "      <th>50%</th>\n",
       "      <td>170.500000</td>\n",
       "      <td>106.000000</td>\n",
       "      <td>4.000000</td>\n",
       "    </tr>\n",
       "    <tr>\n",
       "      <th>75%</th>\n",
       "      <td>184.000000</td>\n",
       "      <td>136.000000</td>\n",
       "      <td>5.000000</td>\n",
       "    </tr>\n",
       "    <tr>\n",
       "      <th>max</th>\n",
       "      <td>199.000000</td>\n",
       "      <td>160.000000</td>\n",
       "      <td>5.000000</td>\n",
       "    </tr>\n",
       "  </tbody>\n",
       "</table>\n",
       "</div>"
      ],
      "text/plain": [
       "           Height      Weight       Index\n",
       "count  500.000000  500.000000  500.000000\n",
       "mean   169.944000  106.000000    3.748000\n",
       "std     16.375261   32.382607    1.355053\n",
       "min    140.000000   50.000000    0.000000\n",
       "25%    156.000000   80.000000    3.000000\n",
       "50%    170.500000  106.000000    4.000000\n",
       "75%    184.000000  136.000000    5.000000\n",
       "max    199.000000  160.000000    5.000000"
      ]
     },
     "execution_count": 13,
     "metadata": {},
     "output_type": "execute_result"
    }
   ],
   "source": [
    "data.describe()\n"
   ]
  },
  {
   "cell_type": "code",
   "execution_count": 14,
   "metadata": {},
   "outputs": [
    {
     "name": "stdout",
     "output_type": "stream",
     "text": [
      "Mean Without using Inbuild Function :\n",
      "169.944\n",
      "Mean using Inbuild Function :\n",
      "169.944\n"
     ]
    }
   ],
   "source": [
    "#Mean\n",
    "total=data['Height'].sum()\n",
    "n=data.shape[0]\n",
    "print('Mean Without using Inbuild Function :')\n",
    "print(total/n)\n",
    "mean=data['Height'].mean()\n",
    "print('Mean using Inbuild Function :')\n",
    "print(mean)\n"
   ]
  },
  {
   "cell_type": "code",
   "execution_count": 15,
   "metadata": {},
   "outputs": [
    {
     "name": "stdout",
     "output_type": "stream",
     "text": [
      "Median without using inbuild Functon\n",
      "170.5\n",
      "****************************************\n",
      "Median using inbuild Functon\n",
      "170.5\n"
     ]
    }
   ],
   "source": [
    "#Median\n",
    "sorted_h=data.sort_values(by=['Height'],ignore_index=True)\n",
    "#print(sorted_h)\n",
    "if n % 2 !=0:\n",
    "    miditem=int((n-1)/2)\n",
    "    c=sorted_h._get_value(miditem, 'Height')\n",
    "    print('Median of the Given List ')\n",
    "    print(c)\n",
    "elif n%2 ==0:\n",
    "    miditem1=int(n/2)\n",
    "    miditem2=int(n/2)-1\n",
    "    a=sorted_h._get_value(miditem1, 'Height')\n",
    "    b=sorted_h._get_value(miditem2, 'Height')\n",
    "    print('Median without using inbuild Functon' )\n",
    "    print((a+b)/2)\n",
    "print('**'*20)\n",
    "print('Median using inbuild Functon' )   \n",
    "median=data['Height'].median()\n",
    "print(median)  "
   ]
  },
  {
   "cell_type": "code",
   "execution_count": 16,
   "metadata": {},
   "outputs": [
    {
     "name": "stdout",
     "output_type": "stream",
     "text": [
      "Mode of the given Data\n"
     ]
    },
    {
     "data": {
      "text/plain": [
       "0    188\n",
       "dtype: int64"
      ]
     },
     "execution_count": 16,
     "metadata": {},
     "output_type": "execute_result"
    }
   ],
   "source": [
    "#Mode\n",
    "print('Mode of the given Data')\n",
    "sorted_h['Height'].mode()"
   ]
  },
  {
   "cell_type": "code",
   "execution_count": 17,
   "metadata": {},
   "outputs": [
    {
     "name": "stdout",
     "output_type": "stream",
     "text": [
      "Variance of the given Height Data:\n",
      "268.14916232464947\n",
      "Standard Deviation of the given Data:\n",
      "16.375260679593758\n",
      "*********************************\n",
      "Variance of the given weight Data:\n",
      "1048.633266533066\n",
      "Standard Deviation of the given Data:\n",
      "32.38260746964435\n"
     ]
    }
   ],
   "source": [
    "#Variance\n",
    "print('Variance of the given Height Data:')\n",
    "v=sorted_h['Height'].var()\n",
    "print(v)\n",
    "print('Standard Deviation of the given Data:')\n",
    "std=np.sqrt(v)\n",
    "print(std)\n",
    "print('*********************************')\n",
    "print('Variance of the given weight Data:')\n",
    "w=sorted_h['Weight'].var()\n",
    "print(w)\n",
    "print('Standard Deviation of the given Data:')\n",
    "stdw=np.sqrt(w)\n",
    "print(stdw)\n"
   ]
  },
  {
   "cell_type": "code",
   "execution_count": 18,
   "metadata": {},
   "outputs": [
    {
     "name": "stdout",
     "output_type": "stream",
     "text": [
      "0.2364729458917872\n"
     ]
    }
   ],
   "source": [
    "#Covariance\n",
    "covariance=data['Height'].cov(data.Weight)\n",
    "print(covariance)"
   ]
  },
  {
   "cell_type": "code",
   "execution_count": 19,
   "metadata": {},
   "outputs": [
    {
     "data": {
      "text/plain": [
       "Gender    False\n",
       "Height    False\n",
       "Weight    False\n",
       "Index     False\n",
       "dtype: bool"
      ]
     },
     "execution_count": 19,
     "metadata": {},
     "output_type": "execute_result"
    }
   ],
   "source": [
    "data.isnull().any()"
   ]
  },
  {
   "cell_type": "code",
   "execution_count": 20,
   "metadata": {},
   "outputs": [
    {
     "name": "stdout",
     "output_type": "stream",
     "text": [
      "0.00044594512830535777\n",
      "Using Function\n",
      "0.00044594512830535793\n"
     ]
    }
   ],
   "source": [
    "#Correlationn\n",
    "correlation=covariance/(std*stdw)\n",
    "print(correlation)\n",
    "print('Using Function')\n",
    "corre=data['Height'].corr(data.Weight)\n",
    "print(corre)"
   ]
  },
  {
   "cell_type": "code",
   "execution_count": 21,
   "metadata": {},
   "outputs": [
    {
     "data": {
      "text/plain": [
       "<function matplotlib.pyplot.show(*args, **kw)>"
      ]
     },
     "execution_count": 21,
     "metadata": {},
     "output_type": "execute_result"
    },
    {
     "data": {
      "image/png": "[encoded data removed]",
      "text/plain": [
       "<Figure size 432x288 with 1 Axes>"
      ]
     },
     "metadata": {
      "needs_background": "light"
     },
     "output_type": "display_data"
    }
   ],
   "source": [
    "plt.hist(data['Height'],bins=30)\n",
    "plt.show"
   ]
  },
  {
   "cell_type": "markdown",
   "metadata": {},
   "source": [
    "68% of the data is within 1 standard deviation (σ) of the mean (μ), 95% of the data is within 2 standard deviations (σ) of the mean (μ), and 99.7% of the data is within 3 standard deviations (σ) of the mean (μ)."
   ]
  },
  {
   "cell_type": "code",
   "execution_count": 24,
   "metadata": {},
   "outputs": [
    {
     "data": {
      "image/png": "[encoded data removed]",
      "text/plain": [
       "<Figure size 432x288 with 1 Axes>"
      ]
     },
     "metadata": {
      "needs_background": "light"
     },
     "output_type": "display_data"
    }
   ],
   "source": [
    "#Normal Distribution\n",
    "x = np.linspace(-3 * std + mean, 3 * std + mean, 500)\n",
    "plt.plot(x, st.norm.pdf(x, mean, std));"
   ]
  },
  {
   "cell_type": "code",
   "execution_count": 25,
   "metadata": {},
   "outputs": [
    {
     "name": "stdout",
     "output_type": "stream",
     "text": [
      "pValue =  0.19797896234788953\n",
      "Reject Alternative Hypothesis\n"
     ]
    }
   ],
   "source": [
    "#Hypothesis T test for 1 sample\n",
    "ttest,pVal = st.ttest_1samp(data.Height,169)\n",
    "print(\"pValue = \",pVal)\n",
    "if pVal < 0.05:\n",
    "    print(\"Reject Null Hypothesis\")\n",
    "else:\n",
    "    print(\"Reject Alternative Hypothesis\")"
   ]
  },
  {
   "cell_type": "code",
   "execution_count": 26,
   "metadata": {},
   "outputs": [
    {
     "name": "stdout",
     "output_type": "stream",
     "text": [
      "pValue =  1.4541168650389354e-205\n",
      "Reject Null Hypothesis\n"
     ]
    }
   ],
   "source": [
    "#Hypothesis T test for 2 sample\n",
    "ttest,pVal = st.ttest_ind(data.Height, data.Weight)\n",
    "print(\"pValue = \",pVal)\n",
    "if pVal < 0.05:\n",
    "    print(\"Reject Null Hypothesis\")\n",
    "else:\n",
    "    print(\"Reject Alternative Hypothesis\")"
   ]
  },
  {
   "cell_type": "code",
   "execution_count": null,
   "metadata": {},
   "outputs": [],
   "source": [
    "#Spearman's rank correlation\n"
   ]
  }
 ],
 "metadata": {
  "kernelspec": {
   "display_name": "Python 3",
   "language": "python",
   "name": "python3"
  },
  "language_info": {
   "codemirror_mode": {
    "name": "ipython",
    "version": 3
   },
   "file_extension": ".py",
   "mimetype": "text/x-python",
   "name": "python",
   "nbconvert_exporter": "python",
   "pygments_lexer": "ipython3",
   "version": "3.8.3"
  }
 },
 "nbformat": 4,
 "nbformat_minor": 4
}
